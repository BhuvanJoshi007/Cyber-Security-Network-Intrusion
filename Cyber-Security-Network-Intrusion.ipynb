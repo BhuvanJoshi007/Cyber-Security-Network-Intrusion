{
 "cells": [
  {
   "cell_type": "code",
   "execution_count": 1,
   "id": "54c4d66e",
   "metadata": {},
   "outputs": [],
   "source": [
    "import numpy as np\n",
    "import pandas as pd"
   ]
  },
  {
   "cell_type": "code",
   "execution_count": 2,
   "id": "eb0675e5",
   "metadata": {},
   "outputs": [],
   "source": [
    "# Import the data sets"
   ]
  },
  {
   "cell_type": "code",
   "execution_count": 3,
   "id": "1a5be917",
   "metadata": {},
   "outputs": [],
   "source": [
    "AB_Data_Back = pd.read_csv(\"Data_of_Attack_Back.csv\")\n",
    "AB_Data_BufferOverflow = pd.read_csv(\"Data_of_Attack_Back_BufferOverflow.csv\")\n",
    "AB_Data_FTPWrite = pd.read_csv(\"Data_of_Attack_Back_FTPWrite.csv\")\n",
    "AB_Data_GuessPassword = pd.read_csv(\"Data_of_Attack_Back_GuessPassword.csv\")\n",
    "AB_Data_Neptune = pd.read_csv(\"Data_of_Attack_Back_Neptune.csv\")\n",
    "AB_Data_NMap = pd.read_csv(\"Data_of_Attack_Back_NMap.csv\")\n",
    "AB_Data_Normal = pd.read_csv(\"Data_of_Attack_Back_Normal.csv\")\n",
    "AB_Data_PortSweep = pd.read_csv(\"Data_of_Attack_Back_PortSweep.csv\")\n",
    "AB_Data_RootKit = pd.read_csv(\"Data_of_Attack_Back_RootKit.csv\")\n",
    "AB_Data_Satan = pd.read_csv(\"Data_of_Attack_Back_Satan.csv\")\n",
    "AB_Data_Smurf = pd.read_csv(\"Data_of_Attack_Back_Smurf.csv\")"
   ]
  },
  {
   "cell_type": "code",
   "execution_count": 4,
   "id": "b9454b7f",
   "metadata": {},
   "outputs": [
    {
     "data": {
      "text/plain": [
       "0.017"
      ]
     },
     "execution_count": 4,
     "metadata": {},
     "output_type": "execute_result"
    }
   ],
   "source": [
    "AB_Data_BufferOverflow[\" dst_host_srv_rerror_rate\"].max()"
   ]
  },
  {
   "cell_type": "code",
   "execution_count": 5,
   "id": "a802f9f4",
   "metadata": {},
   "outputs": [
    {
     "data": {
      "text/plain": [
       "Index(['duration', ' protocol_type', ' service', ' flag', ' src_bytes',\n",
       "       ' dst_bytes', ' land', ' wrong_fragment', ' urgent', ' hot',\n",
       "       ' num_failed_logins', ' logged_in', ' num_compromised', ' root_shell',\n",
       "       ' su_attempted', ' num_root', ' num_file_creations', ' num_shells',\n",
       "       ' num_access_files', ' num_outbound_cmds', ' is_host_login',\n",
       "       ' is_guest_login', ' count', ' srv_count', ' serror_rate',\n",
       "       ' srv_error_rate', ' rerror_rate', ' srv_rerror_rate', ' same_srv_rate',\n",
       "       ' diff_srv_rate', ' srv_diff_host_rate', ' dst_host_count',\n",
       "       ' dst_host_srv_count', ' dst_host_same_srv_rate',\n",
       "       ' dst_host_diff_srv_rate', ' dst_host_same_src_port_rate',\n",
       "       ' dst_host_srv_diff_host_rate', ' dst_host_serror_rate',\n",
       "       ' dst_host_srv_serror_rate', ' dst_host_rerror_rate',\n",
       "       ' dst_host_srv_rerror_rate'],\n",
       "      dtype='object')"
      ]
     },
     "execution_count": 5,
     "metadata": {},
     "output_type": "execute_result"
    }
   ],
   "source": [
    "AB_Data_Smurf.columns"
   ]
  },
  {
   "cell_type": "code",
   "execution_count": 6,
   "id": "8defbfe4",
   "metadata": {},
   "outputs": [],
   "source": [
    "# adding the new column in each dataframe with the name of cyber attack \n",
    "AB_Data_Back[\"Attack\"] = [\"Back\" for i in range(len(AB_Data_Back))]\n",
    "AB_Data_BufferOverflow[\"Attack\"] = [\"BufferOverflow\" for i in range(len(AB_Data_BufferOverflow))]\n",
    "AB_Data_FTPWrite[\"Attack\"] = [\"FTPWrite\" for i in range(len(AB_Data_FTPWrite))]\n",
    "AB_Data_GuessPassword[\"Attack\"] = [\"GuessPassword\" for i in range(len(AB_Data_GuessPassword))]\n",
    "AB_Data_Neptune[\"Attack\"] = [\"Neptune\" for i in range(len(AB_Data_Neptune))]\n",
    "AB_Data_NMap[\"Attack\"] = [\"NMap\" for i in range(len(AB_Data_NMap))]\n",
    "AB_Data_Normal[\"Attack\"] = [\"Normal\" for i in range(len(AB_Data_Normal))]\n",
    "AB_Data_PortSweep[\"Attack\"] = [\"PortSweep\" for i in range(len(AB_Data_PortSweep))]\n",
    "AB_Data_RootKit[\"Attack\"] = [\"RootKit\" for i in range(len(AB_Data_RootKit))]\n",
    "AB_Data_Satan[\"Attack\"] = [\"Satan\" for i in range(len(AB_Data_Satan))]\n",
    "AB_Data_Smurf[\"Attack\"] = [\"Smurf\" for i in range(len(AB_Data_Smurf))]"
   ]
  },
  {
   "cell_type": "code",
   "execution_count": 7,
   "id": "47e8f40c",
   "metadata": {},
   "outputs": [],
   "source": [
    "# triming the column name in all dataframes\n",
    "trim_col_list = ['duration', 'protocol_type', 'service', 'flag', 'src_bytes','dst_bytes', 'land', \n",
    "            'wrong_fragment', 'urgent', 'hot','num_failed_logins', 'logged_in', 'num_compromised',\n",
    "            'root_shell','su_attempted', 'num_root', 'num_file_creations', 'num_shells',\n",
    "            'num_access_files', 'num_outbound_cmds', 'is_host_login','is_guest_login', 'count',\n",
    "            'srv_count', 'serror_rate', 'srv_error_rate', 'rerror_rate', 'srv_rerror_rate', \n",
    "            'same_srv_rate','diff_srv_rate', 'srv_diff_host_rate', 'dst_host_count',\n",
    "            'dst_host_srv_count', 'dst_host_same_srv_rate','dst_host_diff_srv_rate', \n",
    "            'dst_host_same_src_port_rate','dst_host_srv_diff_host_rate', 'dst_host_serror_rate',\n",
    "            'dst_host_srv_serror_rate', 'dst_host_rerror_rate','dst_host_srv_rerror_rate',\"Attack\"]\n",
    "\n",
    "table_names = [AB_Data_Back, AB_Data_BufferOverflow, AB_Data_FTPWrite, AB_Data_GuessPassword,\n",
    "               AB_Data_Neptune, AB_Data_NMap, AB_Data_Normal, AB_Data_PortSweep, \n",
    "               AB_Data_RootKit, AB_Data_Satan, AB_Data_Smurf]\n",
    "\n",
    "for i in table_names:\n",
    "    i.columns = trim_col_list"
   ]
  },
  {
   "cell_type": "markdown",
   "id": "9f5aa9f0",
   "metadata": {},
   "source": [
    "### Exploratory data analysis"
   ]
  },
  {
   "cell_type": "code",
   "execution_count": 8,
   "id": "cec7da6d",
   "metadata": {},
   "outputs": [
    {
     "name": "stdout",
     "output_type": "stream",
     "text": [
      "<class 'pandas.core.frame.DataFrame'>\n",
      "RangeIndex: 968 entries, 0 to 967\n",
      "Data columns (total 42 columns):\n",
      " #   Column                       Non-Null Count  Dtype  \n",
      "---  ------                       --------------  -----  \n",
      " 0   duration                     968 non-null    float64\n",
      " 1   protocol_type                968 non-null    int64  \n",
      " 2   service                      968 non-null    int64  \n",
      " 3   flag                         968 non-null    float64\n",
      " 4   src_bytes                    968 non-null    float64\n",
      " 5   dst_bytes                    968 non-null    float64\n",
      " 6   land                         968 non-null    int64  \n",
      " 7   wrong_fragment               968 non-null    int64  \n",
      " 8   urgent                       968 non-null    int64  \n",
      " 9   hot                          968 non-null    float64\n",
      " 10  num_failed_logins            968 non-null    int64  \n",
      " 11  logged_in                    968 non-null    float64\n",
      " 12  num_compromised              968 non-null    float64\n",
      " 13  root_shell                   968 non-null    int64  \n",
      " 14  su_attempted                 968 non-null    int64  \n",
      " 15  num_root                     968 non-null    int64  \n",
      " 16  num_file_creations           968 non-null    int64  \n",
      " 17  num_shells                   968 non-null    int64  \n",
      " 18  num_access_files             968 non-null    int64  \n",
      " 19  num_outbound_cmds            968 non-null    int64  \n",
      " 20  is_host_login                968 non-null    int64  \n",
      " 21  is_guest_login               968 non-null    int64  \n",
      " 22  count                        968 non-null    float64\n",
      " 23  srv_count                    968 non-null    float64\n",
      " 24  serror_rate                  968 non-null    float64\n",
      " 25  srv_error_rate               968 non-null    float64\n",
      " 26  rerror_rate                  968 non-null    float64\n",
      " 27  srv_rerror_rate              968 non-null    float64\n",
      " 28  same_srv_rate                968 non-null    float64\n",
      " 29  diff_srv_rate                968 non-null    float64\n",
      " 30  srv_diff_host_rate           968 non-null    float64\n",
      " 31  dst_host_count               968 non-null    float64\n",
      " 32  dst_host_srv_count           968 non-null    float64\n",
      " 33  dst_host_same_srv_rate       968 non-null    float64\n",
      " 34  dst_host_diff_srv_rate       968 non-null    int64  \n",
      " 35  dst_host_same_src_port_rate  968 non-null    float64\n",
      " 36  dst_host_srv_diff_host_rate  968 non-null    int64  \n",
      " 37  dst_host_serror_rate         968 non-null    float64\n",
      " 38  dst_host_srv_serror_rate     968 non-null    float64\n",
      " 39  dst_host_rerror_rate         968 non-null    float64\n",
      " 40  dst_host_srv_rerror_rate     968 non-null    float64\n",
      " 41  Attack                       968 non-null    object \n",
      "dtypes: float64(24), int64(17), object(1)\n",
      "memory usage: 317.8+ KB\n"
     ]
    }
   ],
   "source": [
    "AB_Data_Back.info()"
   ]
  },
  {
   "cell_type": "markdown",
   "id": "600df3b4",
   "metadata": {},
   "source": [
    "#### Handling Missing Values"
   ]
  },
  {
   "cell_type": "code",
   "execution_count": 9,
   "id": "80106df1",
   "metadata": {},
   "outputs": [
    {
     "name": "stdout",
     "output_type": "stream",
     "text": [
      "AB_Data_Back = 0\n"
     ]
    }
   ],
   "source": [
    "print(\"AB_Data_Back =\",AB_Data_Back.isnull().sum().sum())"
   ]
  },
  {
   "cell_type": "code",
   "execution_count": 10,
   "id": "52b35d2b",
   "metadata": {},
   "outputs": [],
   "source": [
    "table_names_list =['AB_Data_Back', 'AB_Data_BufferOverflow', 'AB_Data_FTPWrite', \n",
    "                   'AB_Data_GuessPassword','AB_Data_Neptune', 'AB_Data_NMap', 'AB_Data_Normal', \n",
    "                   'AB_Data_PortSweep','AB_Data_RootKit', 'AB_Data_Satan', 'AB_Data_Smurf']"
   ]
  },
  {
   "cell_type": "code",
   "execution_count": 11,
   "id": "b30b3016",
   "metadata": {},
   "outputs": [
    {
     "name": "stdout",
     "output_type": "stream",
     "text": [
      "DataFrame Name: AB_Data_Back, Null Values Count: 0\n",
      "DataFrame Name: AB_Data_BufferOverflow, Null Values Count: 0\n",
      "DataFrame Name: AB_Data_FTPWrite, Null Values Count: 0\n",
      "DataFrame Name: AB_Data_GuessPassword, Null Values Count: 0\n",
      "DataFrame Name: AB_Data_Neptune, Null Values Count: 0\n",
      "DataFrame Name: AB_Data_NMap, Null Values Count: 0\n",
      "DataFrame Name: AB_Data_Normal, Null Values Count: 0\n",
      "DataFrame Name: AB_Data_PortSweep, Null Values Count: 0\n",
      "DataFrame Name: AB_Data_RootKit, Null Values Count: 0\n",
      "DataFrame Name: AB_Data_Satan, Null Values Count: 0\n",
      "DataFrame Name: AB_Data_Smurf, Null Values Count: 0\n"
     ]
    }
   ],
   "source": [
    "for i, df in enumerate(table_names):\n",
    "    null_count = df.isnull().sum().sum()  \n",
    "    print(f\"DataFrame Name: {table_names_list[i]}, Null Values Count: {null_count}\")"
   ]
  },
  {
   "cell_type": "markdown",
   "id": "537dfcf0",
   "metadata": {},
   "source": [
    "#### Hence there are no missing values"
   ]
  },
  {
   "cell_type": "markdown",
   "id": "7e3d3f55",
   "metadata": {},
   "source": [
    "#### Dealing with Duplicates"
   ]
  },
  {
   "cell_type": "code",
   "execution_count": 12,
   "id": "1c2db327",
   "metadata": {},
   "outputs": [
    {
     "name": "stdout",
     "output_type": "stream",
     "text": [
      "DataFrame Name: AB_Data_Back, duplicate row count: 0\n",
      "DataFrame Name: AB_Data_BufferOverflow, duplicate row count: 0\n",
      "DataFrame Name: AB_Data_FTPWrite, duplicate row count: 0\n",
      "DataFrame Name: AB_Data_GuessPassword, duplicate row count: 0\n",
      "DataFrame Name: AB_Data_Neptune, duplicate row count: 0\n",
      "DataFrame Name: AB_Data_NMap, duplicate row count: 0\n",
      "DataFrame Name: AB_Data_Normal, duplicate row count: 0\n",
      "DataFrame Name: AB_Data_PortSweep, duplicate row count: 0\n",
      "DataFrame Name: AB_Data_RootKit, duplicate row count: 0\n",
      "DataFrame Name: AB_Data_Satan, duplicate row count: 0\n",
      "DataFrame Name: AB_Data_Smurf, duplicate row count: 0\n"
     ]
    }
   ],
   "source": [
    "for i, df in enumerate(table_names):\n",
    "    duplicate = df.duplicated().sum() \n",
    "    print(f\"DataFrame Name: {table_names_list[i]}, duplicate row count: {duplicate}\")"
   ]
  },
  {
   "cell_type": "markdown",
   "id": "45b2b55e",
   "metadata": {},
   "source": [
    "#### Hence there are no duplicate values"
   ]
  },
  {
   "cell_type": "code",
   "execution_count": null,
   "id": "8abb5fe8",
   "metadata": {},
   "outputs": [],
   "source": []
  }
 ],
 "metadata": {
  "kernelspec": {
   "display_name": "Python 3",
   "language": "python",
   "name": "python3"
  },
  "language_info": {
   "codemirror_mode": {
    "name": "ipython",
    "version": 3
   },
   "file_extension": ".py",
   "mimetype": "text/x-python",
   "name": "python",
   "nbconvert_exporter": "python",
   "pygments_lexer": "ipython3",
   "version": "3.8.8"
  }
 },
 "nbformat": 4,
 "nbformat_minor": 5
}

{
 "cells": [
  {
   "cell_type": "code",
   "execution_count": 1,
   "id": "54c4d66e",
   "metadata": {},
   "outputs": [],
   "source": [
    "import numpy as np\n",
    "import pandas as pd"
   ]
  },
  {
   "cell_type": "code",
   "execution_count": 2,
   "id": "eb0675e5",
   "metadata": {},
   "outputs": [],
   "source": [
    "# Import the data sets"
   ]
  },
  {
   "cell_type": "code",
   "execution_count": 4,
   "id": "1a5be917",
   "metadata": {},
   "outputs": [],
   "source": [
    "Data_of_Attack_Back = pd.read_csv(\"Data_of_Attack_Back.csv\")\n",
    "AB_Data_BufferOverflow = pd.read_csv(\"Data_of_Attack_Back_BufferOverflow.csv\")\n",
    "AB_Data_FTPWrite = pd.read_csv(\"Data_of_Attack_Back_FTPWrite.csv\")\n",
    "AB_Data_GuessPassword = pd.read_csv(\"Data_of_Attack_Back_GuessPassword.csv\")\n",
    "AB_Data_Neptune = pd.read_csv(\"Data_of_Attack_Back_Neptune.csv\")\n",
    "AB_Data_NMap = pd.read_csv(\"Data_of_Attack_Back_NMap.csv\")\n",
    "AB_Data_Normal = pd.read_csv(\"Data_of_Attack_Back_Normal.csv\")\n",
    "AB_Data_PortSweep = pd.read_csv(\"Data_of_Attack_Back_PortSweep.csv\")\n",
    "AB_Data_RootKit = pd.read_csv(\"Data_of_Attack_Back_RootKit.csv\")\n",
    "AB_Data_Satan = pd.read_csv(\"Data_of_Attack_Back_Satan.csv\")\n",
    "AB_Data_Smurf = pd.read_csv(\"Data_of_Attack_Back_Smurf.csv\")"
   ]
  },
  {
   "cell_type": "code",
   "execution_count": null,
   "id": "8abb5fe8",
   "metadata": {},
   "outputs": [],
   "source": []
  }
 ],
 "metadata": {
  "kernelspec": {
   "display_name": "Python 3",
   "language": "python",
   "name": "python3"
  },
  "language_info": {
   "codemirror_mode": {
    "name": "ipython",
    "version": 3
   },
   "file_extension": ".py",
   "mimetype": "text/x-python",
   "name": "python",
   "nbconvert_exporter": "python",
   "pygments_lexer": "ipython3",
   "version": "3.8.8"
  }
 },
 "nbformat": 4,
 "nbformat_minor": 5
}

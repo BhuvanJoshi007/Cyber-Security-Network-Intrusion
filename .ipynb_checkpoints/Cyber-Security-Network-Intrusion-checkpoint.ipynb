{
 "cells": [
  {
   "cell_type": "code",
   "execution_count": 1,
   "id": "54c4d66e",
   "metadata": {},
   "outputs": [],
   "source": [
    "import numpy as np\n",
    "import pandas as pd"
   ]
  },
  {
   "cell_type": "code",
   "execution_count": 2,
   "id": "eb0675e5",
   "metadata": {},
   "outputs": [],
   "source": [
    "# Import the data sets\n",
    "source"
   ]
  },
  {
   "cell_type": "code",
   "execution_count": 3,
   "id": "1a5be917",
   "metadata": {},
   "outputs": [
    {
     "ename": "FileNotFoundError",
     "evalue": "[Errno 2] No such file or directory: 'Data_of_Attack_Back.csv'",
     "output_type": "error",
     "traceback": [
      "\u001b[1;31m---------------------------------------------------------------------------\u001b[0m",
      "\u001b[1;31mFileNotFoundError\u001b[0m                         Traceback (most recent call last)",
      "\u001b[1;32m<ipython-input-3-f6f83830849e>\u001b[0m in \u001b[0;36m<module>\u001b[1;34m\u001b[0m\n\u001b[1;32m----> 1\u001b[1;33m \u001b[0mData_of_Attack_Back\u001b[0m \u001b[1;33m=\u001b[0m \u001b[0mpd\u001b[0m\u001b[1;33m.\u001b[0m\u001b[0mread_csv\u001b[0m\u001b[1;33m(\u001b[0m\u001b[1;34m\"Data_of_Attack_Back.csv\"\u001b[0m\u001b[1;33m)\u001b[0m\u001b[1;33m\u001b[0m\u001b[1;33m\u001b[0m\u001b[0m\n\u001b[0m\u001b[0;32m      2\u001b[0m \u001b[0mAB_Data_BufferOverflow\u001b[0m \u001b[1;33m=\u001b[0m \u001b[0mpd\u001b[0m\u001b[1;33m.\u001b[0m\u001b[0mread_csv\u001b[0m\u001b[1;33m(\u001b[0m\u001b[1;34m\"Data_of_Attack_Back_BufferOverflow.csv\"\u001b[0m\u001b[1;33m)\u001b[0m\u001b[1;33m\u001b[0m\u001b[1;33m\u001b[0m\u001b[0m\n\u001b[0;32m      3\u001b[0m \u001b[0mAB_Data_FTPWrite\u001b[0m \u001b[1;33m=\u001b[0m \u001b[0mpd\u001b[0m\u001b[1;33m.\u001b[0m\u001b[0mread_csv\u001b[0m\u001b[1;33m(\u001b[0m\u001b[1;34m\"Data_of_Attack_Back_FTPWrite.csv\"\u001b[0m\u001b[1;33m)\u001b[0m\u001b[1;33m\u001b[0m\u001b[1;33m\u001b[0m\u001b[0m\n\u001b[0;32m      4\u001b[0m \u001b[0mAB_Data_GuessPassword\u001b[0m \u001b[1;33m=\u001b[0m \u001b[0mpd\u001b[0m\u001b[1;33m.\u001b[0m\u001b[0mread_csv\u001b[0m\u001b[1;33m(\u001b[0m\u001b[1;34m\"Data_of_Attack_Back_GuessPassword.csv\"\u001b[0m\u001b[1;33m)\u001b[0m\u001b[1;33m\u001b[0m\u001b[1;33m\u001b[0m\u001b[0m\n\u001b[0;32m      5\u001b[0m \u001b[0mAB_Data_Neptune\u001b[0m \u001b[1;33m=\u001b[0m \u001b[0mpd\u001b[0m\u001b[1;33m.\u001b[0m\u001b[0mread_csv\u001b[0m\u001b[1;33m(\u001b[0m\u001b[1;34m\"Data_of_Attack_Back_Neptune.csv\"\u001b[0m\u001b[1;33m)\u001b[0m\u001b[1;33m\u001b[0m\u001b[1;33m\u001b[0m\u001b[0m\n",
      "\u001b[1;32m~\\Anaconda3\\lib\\site-packages\\pandas\\io\\parsers.py\u001b[0m in \u001b[0;36mread_csv\u001b[1;34m(filepath_or_buffer, sep, delimiter, header, names, index_col, usecols, squeeze, prefix, mangle_dupe_cols, dtype, engine, converters, true_values, false_values, skipinitialspace, skiprows, skipfooter, nrows, na_values, keep_default_na, na_filter, verbose, skip_blank_lines, parse_dates, infer_datetime_format, keep_date_col, date_parser, dayfirst, cache_dates, iterator, chunksize, compression, thousands, decimal, lineterminator, quotechar, quoting, doublequote, escapechar, comment, encoding, dialect, error_bad_lines, warn_bad_lines, delim_whitespace, low_memory, memory_map, float_precision, storage_options)\u001b[0m\n\u001b[0;32m    608\u001b[0m     \u001b[0mkwds\u001b[0m\u001b[1;33m.\u001b[0m\u001b[0mupdate\u001b[0m\u001b[1;33m(\u001b[0m\u001b[0mkwds_defaults\u001b[0m\u001b[1;33m)\u001b[0m\u001b[1;33m\u001b[0m\u001b[1;33m\u001b[0m\u001b[0m\n\u001b[0;32m    609\u001b[0m \u001b[1;33m\u001b[0m\u001b[0m\n\u001b[1;32m--> 610\u001b[1;33m     \u001b[1;32mreturn\u001b[0m \u001b[0m_read\u001b[0m\u001b[1;33m(\u001b[0m\u001b[0mfilepath_or_buffer\u001b[0m\u001b[1;33m,\u001b[0m \u001b[0mkwds\u001b[0m\u001b[1;33m)\u001b[0m\u001b[1;33m\u001b[0m\u001b[1;33m\u001b[0m\u001b[0m\n\u001b[0m\u001b[0;32m    611\u001b[0m \u001b[1;33m\u001b[0m\u001b[0m\n\u001b[0;32m    612\u001b[0m \u001b[1;33m\u001b[0m\u001b[0m\n",
      "\u001b[1;32m~\\Anaconda3\\lib\\site-packages\\pandas\\io\\parsers.py\u001b[0m in \u001b[0;36m_read\u001b[1;34m(filepath_or_buffer, kwds)\u001b[0m\n\u001b[0;32m    460\u001b[0m \u001b[1;33m\u001b[0m\u001b[0m\n\u001b[0;32m    461\u001b[0m     \u001b[1;31m# Create the parser.\u001b[0m\u001b[1;33m\u001b[0m\u001b[1;33m\u001b[0m\u001b[1;33m\u001b[0m\u001b[0m\n\u001b[1;32m--> 462\u001b[1;33m     \u001b[0mparser\u001b[0m \u001b[1;33m=\u001b[0m \u001b[0mTextFileReader\u001b[0m\u001b[1;33m(\u001b[0m\u001b[0mfilepath_or_buffer\u001b[0m\u001b[1;33m,\u001b[0m \u001b[1;33m**\u001b[0m\u001b[0mkwds\u001b[0m\u001b[1;33m)\u001b[0m\u001b[1;33m\u001b[0m\u001b[1;33m\u001b[0m\u001b[0m\n\u001b[0m\u001b[0;32m    463\u001b[0m \u001b[1;33m\u001b[0m\u001b[0m\n\u001b[0;32m    464\u001b[0m     \u001b[1;32mif\u001b[0m \u001b[0mchunksize\u001b[0m \u001b[1;32mor\u001b[0m \u001b[0miterator\u001b[0m\u001b[1;33m:\u001b[0m\u001b[1;33m\u001b[0m\u001b[1;33m\u001b[0m\u001b[0m\n",
      "\u001b[1;32m~\\Anaconda3\\lib\\site-packages\\pandas\\io\\parsers.py\u001b[0m in \u001b[0;36m__init__\u001b[1;34m(self, f, engine, **kwds)\u001b[0m\n\u001b[0;32m    817\u001b[0m             \u001b[0mself\u001b[0m\u001b[1;33m.\u001b[0m\u001b[0moptions\u001b[0m\u001b[1;33m[\u001b[0m\u001b[1;34m\"has_index_names\"\u001b[0m\u001b[1;33m]\u001b[0m \u001b[1;33m=\u001b[0m \u001b[0mkwds\u001b[0m\u001b[1;33m[\u001b[0m\u001b[1;34m\"has_index_names\"\u001b[0m\u001b[1;33m]\u001b[0m\u001b[1;33m\u001b[0m\u001b[1;33m\u001b[0m\u001b[0m\n\u001b[0;32m    818\u001b[0m \u001b[1;33m\u001b[0m\u001b[0m\n\u001b[1;32m--> 819\u001b[1;33m         \u001b[0mself\u001b[0m\u001b[1;33m.\u001b[0m\u001b[0m_engine\u001b[0m \u001b[1;33m=\u001b[0m \u001b[0mself\u001b[0m\u001b[1;33m.\u001b[0m\u001b[0m_make_engine\u001b[0m\u001b[1;33m(\u001b[0m\u001b[0mself\u001b[0m\u001b[1;33m.\u001b[0m\u001b[0mengine\u001b[0m\u001b[1;33m)\u001b[0m\u001b[1;33m\u001b[0m\u001b[1;33m\u001b[0m\u001b[0m\n\u001b[0m\u001b[0;32m    820\u001b[0m \u001b[1;33m\u001b[0m\u001b[0m\n\u001b[0;32m    821\u001b[0m     \u001b[1;32mdef\u001b[0m \u001b[0mclose\u001b[0m\u001b[1;33m(\u001b[0m\u001b[0mself\u001b[0m\u001b[1;33m)\u001b[0m\u001b[1;33m:\u001b[0m\u001b[1;33m\u001b[0m\u001b[1;33m\u001b[0m\u001b[0m\n",
      "\u001b[1;32m~\\Anaconda3\\lib\\site-packages\\pandas\\io\\parsers.py\u001b[0m in \u001b[0;36m_make_engine\u001b[1;34m(self, engine)\u001b[0m\n\u001b[0;32m   1048\u001b[0m             )\n\u001b[0;32m   1049\u001b[0m         \u001b[1;31m# error: Too many arguments for \"ParserBase\"\u001b[0m\u001b[1;33m\u001b[0m\u001b[1;33m\u001b[0m\u001b[1;33m\u001b[0m\u001b[0m\n\u001b[1;32m-> 1050\u001b[1;33m         \u001b[1;32mreturn\u001b[0m \u001b[0mmapping\u001b[0m\u001b[1;33m[\u001b[0m\u001b[0mengine\u001b[0m\u001b[1;33m]\u001b[0m\u001b[1;33m(\u001b[0m\u001b[0mself\u001b[0m\u001b[1;33m.\u001b[0m\u001b[0mf\u001b[0m\u001b[1;33m,\u001b[0m \u001b[1;33m**\u001b[0m\u001b[0mself\u001b[0m\u001b[1;33m.\u001b[0m\u001b[0moptions\u001b[0m\u001b[1;33m)\u001b[0m  \u001b[1;31m# type: ignore[call-arg]\u001b[0m\u001b[1;33m\u001b[0m\u001b[1;33m\u001b[0m\u001b[0m\n\u001b[0m\u001b[0;32m   1051\u001b[0m \u001b[1;33m\u001b[0m\u001b[0m\n\u001b[0;32m   1052\u001b[0m     \u001b[1;32mdef\u001b[0m \u001b[0m_failover_to_python\u001b[0m\u001b[1;33m(\u001b[0m\u001b[0mself\u001b[0m\u001b[1;33m)\u001b[0m\u001b[1;33m:\u001b[0m\u001b[1;33m\u001b[0m\u001b[1;33m\u001b[0m\u001b[0m\n",
      "\u001b[1;32m~\\Anaconda3\\lib\\site-packages\\pandas\\io\\parsers.py\u001b[0m in \u001b[0;36m__init__\u001b[1;34m(self, src, **kwds)\u001b[0m\n\u001b[0;32m   1865\u001b[0m \u001b[1;33m\u001b[0m\u001b[0m\n\u001b[0;32m   1866\u001b[0m         \u001b[1;31m# open handles\u001b[0m\u001b[1;33m\u001b[0m\u001b[1;33m\u001b[0m\u001b[1;33m\u001b[0m\u001b[0m\n\u001b[1;32m-> 1867\u001b[1;33m         \u001b[0mself\u001b[0m\u001b[1;33m.\u001b[0m\u001b[0m_open_handles\u001b[0m\u001b[1;33m(\u001b[0m\u001b[0msrc\u001b[0m\u001b[1;33m,\u001b[0m \u001b[0mkwds\u001b[0m\u001b[1;33m)\u001b[0m\u001b[1;33m\u001b[0m\u001b[1;33m\u001b[0m\u001b[0m\n\u001b[0m\u001b[0;32m   1868\u001b[0m         \u001b[1;32massert\u001b[0m \u001b[0mself\u001b[0m\u001b[1;33m.\u001b[0m\u001b[0mhandles\u001b[0m \u001b[1;32mis\u001b[0m \u001b[1;32mnot\u001b[0m \u001b[1;32mNone\u001b[0m\u001b[1;33m\u001b[0m\u001b[1;33m\u001b[0m\u001b[0m\n\u001b[0;32m   1869\u001b[0m         \u001b[1;32mfor\u001b[0m \u001b[0mkey\u001b[0m \u001b[1;32min\u001b[0m \u001b[1;33m(\u001b[0m\u001b[1;34m\"storage_options\"\u001b[0m\u001b[1;33m,\u001b[0m \u001b[1;34m\"encoding\"\u001b[0m\u001b[1;33m,\u001b[0m \u001b[1;34m\"memory_map\"\u001b[0m\u001b[1;33m,\u001b[0m \u001b[1;34m\"compression\"\u001b[0m\u001b[1;33m)\u001b[0m\u001b[1;33m:\u001b[0m\u001b[1;33m\u001b[0m\u001b[1;33m\u001b[0m\u001b[0m\n",
      "\u001b[1;32m~\\Anaconda3\\lib\\site-packages\\pandas\\io\\parsers.py\u001b[0m in \u001b[0;36m_open_handles\u001b[1;34m(self, src, kwds)\u001b[0m\n\u001b[0;32m   1360\u001b[0m         \u001b[0mLet\u001b[0m \u001b[0mthe\u001b[0m \u001b[0mreaders\u001b[0m \u001b[0mopen\u001b[0m \u001b[0mIOHanldes\u001b[0m \u001b[0mafter\u001b[0m \u001b[0mthey\u001b[0m \u001b[0mare\u001b[0m \u001b[0mdone\u001b[0m \u001b[1;32mwith\u001b[0m \u001b[0mtheir\u001b[0m \u001b[0mpotential\u001b[0m \u001b[0mraises\u001b[0m\u001b[1;33m.\u001b[0m\u001b[1;33m\u001b[0m\u001b[1;33m\u001b[0m\u001b[0m\n\u001b[0;32m   1361\u001b[0m         \"\"\"\n\u001b[1;32m-> 1362\u001b[1;33m         self.handles = get_handle(\n\u001b[0m\u001b[0;32m   1363\u001b[0m             \u001b[0msrc\u001b[0m\u001b[1;33m,\u001b[0m\u001b[1;33m\u001b[0m\u001b[1;33m\u001b[0m\u001b[0m\n\u001b[0;32m   1364\u001b[0m             \u001b[1;34m\"r\"\u001b[0m\u001b[1;33m,\u001b[0m\u001b[1;33m\u001b[0m\u001b[1;33m\u001b[0m\u001b[0m\n",
      "\u001b[1;32m~\\Anaconda3\\lib\\site-packages\\pandas\\io\\common.py\u001b[0m in \u001b[0;36mget_handle\u001b[1;34m(path_or_buf, mode, encoding, compression, memory_map, is_text, errors, storage_options)\u001b[0m\n\u001b[0;32m    640\u001b[0m                 \u001b[0merrors\u001b[0m \u001b[1;33m=\u001b[0m \u001b[1;34m\"replace\"\u001b[0m\u001b[1;33m\u001b[0m\u001b[1;33m\u001b[0m\u001b[0m\n\u001b[0;32m    641\u001b[0m             \u001b[1;31m# Encoding\u001b[0m\u001b[1;33m\u001b[0m\u001b[1;33m\u001b[0m\u001b[1;33m\u001b[0m\u001b[0m\n\u001b[1;32m--> 642\u001b[1;33m             handle = open(\n\u001b[0m\u001b[0;32m    643\u001b[0m                 \u001b[0mhandle\u001b[0m\u001b[1;33m,\u001b[0m\u001b[1;33m\u001b[0m\u001b[1;33m\u001b[0m\u001b[0m\n\u001b[0;32m    644\u001b[0m                 \u001b[0mioargs\u001b[0m\u001b[1;33m.\u001b[0m\u001b[0mmode\u001b[0m\u001b[1;33m,\u001b[0m\u001b[1;33m\u001b[0m\u001b[1;33m\u001b[0m\u001b[0m\n",
      "\u001b[1;31mFileNotFoundError\u001b[0m: [Errno 2] No such file or directory: 'Data_of_Attack_Back.csv'"
     ]
    }
   ],
   "source": [
    "Data_of_Attack_Back = pd.read_csv(\"Data_of_Attack_Back.csv\")\n",
    "AB_Data_BufferOverflow = pd.read_csv(\"Data_of_Attack_Back_BufferOverflow.csv\")\n",
    "AB_Data_FTPWrite = pd.read_csv(\"Data_of_Attack_Back_FTPWrite.csv\")\n",
    "AB_Data_GuessPassword = pd.read_csv(\"Data_of_Attack_Back_GuessPassword.csv\")\n",
    "AB_Data_Neptune = pd.read_csv(\"Data_of_Attack_Back_Neptune.csv\")\n",
    "AB_Data_NMap = pd.read_csv(\"Data_of_Attack_Back_NMap.csv\")\n",
    "AB_Data_Normal = pd.read_csv(\"Data_of_Attack_Back_Normal.csv\")\n",
    "AB_Data_PortSweep = pd.read_csv(\"Data_of_Attack_Back_PortSweep.csv\")\n",
    "AB_Data_RootKit = pd.read_csv(\"Data_of_Attack_Back_RootKit.csv\")\n",
    "AB_Data_Satan = pd.read_csv(\"Data_of_Attack_Back_Satan.csv\")\n",
    "AB_Data_Smurf = pd.read_csv(\"Data_of_Attack_Back_Smurf.csv\")"
   ]
  },
  {
   "cell_type": "code",
   "execution_count": null,
   "id": "b9454b7f",
   "metadata": {},
   "outputs": [],
   "source": [
    "AB_Data_BufferOverflow[\" dst_host_srv_rerror_rate\"].max()"
   ]
  },
  {
   "cell_type": "code",
   "execution_count": null,
   "id": "a802f9f4",
   "metadata": {},
   "outputs": [],
   "source": [
    "AB_Data_Smurf.columns"
   ]
  },
  {
   "cell_type": "code",
   "execution_count": null,
   "id": "8defbfe4",
   "metadata": {},
   "outputs": [],
   "source": [
    "# adding the new column in each dataframe with the name of cyber attack \n",
    "AB_Data_Back[\"Attack\"] = [\"Back\" for i in range(len(AB_Data_Back))]\n",
    "AB_Data_BufferOverflow[\"Attack\"] = [\"BufferOverflow\" for i in range(len(AB_Data_BufferOverflow))]\n",
    "AB_Data_FTPWrite[\"Attack\"] = [\"FTPWrite\" for i in range(len(AB_Data_FTPWrite))]\n",
    "AB_Data_GuessPassword[\"Attack\"] = [\"GuessPassword\" for i in range(len(AB_Data_GuessPassword))]\n",
    "AB_Data_Neptune[\"Attack\"] = [\"Neptune\" for i in range(len(AB_Data_Neptune))]\n",
    "AB_Data_NMap[\"Attack\"] = [\"NMap\" for i in range(len(AB_Data_NMap))]\n",
    "AB_Data_Normal[\"Attack\"] = [\"Normal\" for i in range(len(AB_Data_Normal))]\n",
    "AB_Data_PortSweep[\"Attack\"] = [\"PortSweep\" for i in range(len(AB_Data_PortSweep))]\n",
    "AB_Data_RootKit[\"Attack\"] = [\"RootKit\" for i in range(len(AB_Data_RootKit))]\n",
    "AB_Data_Satan[\"Attack\"] = [\"Satan\" for i in range(len(AB_Data_Satan))]\n",
    "AB_Data_Smurf[\"Attack\"] = [\"Smurf\" for i in range(len(AB_Data_Smurf))]"
   ]
  },
  {
   "cell_type": "code",
   "execution_count": null,
   "id": "47e8f40c",
   "metadata": {},
   "outputs": [],
   "source": [
    "# triming the column name in all dataframes\n",
    "trim_col_list = ['duration', 'protocol_type', 'service', 'flag', 'src_bytes','dst_bytes', 'land', \n",
    "            'wrong_fragment', 'urgent', 'hot','num_failed_logins', 'logged_in', 'num_compromised',\n",
    "            'root_shell','su_attempted', 'num_root', 'num_file_creations', 'num_shells',\n",
    "            'num_access_files', 'num_outbound_cmds', 'is_host_login','is_guest_login', 'count',\n",
    "            'srv_count', 'serror_rate', 'srv_error_rate', 'rerror_rate', 'srv_rerror_rate', \n",
    "            'same_srv_rate','diff_srv_rate', 'srv_diff_host_rate', 'dst_host_count',\n",
    "            'dst_host_srv_count', 'dst_host_same_srv_rate','dst_host_diff_srv_rate', \n",
    "            'dst_host_same_src_port_rate','dst_host_srv_diff_host_rate', 'dst_host_serror_rate',\n",
    "            'dst_host_srv_serror_rate', 'dst_host_rerror_rate','dst_host_srv_rerror_rate',\"Attack\"]\n",
    "\n",
    "table_names = [AB_Data_Back, AB_Data_BufferOverflow, AB_Data_FTPWrite, AB_Data_GuessPassword,\n",
    "               AB_Data_Neptune, AB_Data_NMap, AB_Data_Normal, AB_Data_PortSweep, \n",
    "               AB_Data_RootKit, AB_Data_Satan, AB_Data_Smurf]\n",
    "\n",
    "for i in table_names:\n",
    "    i.columns = trim_col_list"
   ]
  },
  {
   "cell_type": "markdown",
   "id": "9f5aa9f0",
   "metadata": {},
   "source": [
    "### Exploratory data analysis"
   ]
  },
  {
   "cell_type": "code",
   "execution_count": null,
   "id": "cec7da6d",
   "metadata": {},
   "outputs": [],
   "source": [
    "AB_Data_Back.info()"
   ]
  },
  {
   "cell_type": "markdown",
   "id": "600df3b4",
   "metadata": {},
   "source": [
    "#### Handling Missing Values"
   ]
  },
  {
   "cell_type": "code",
   "execution_count": null,
   "id": "80106df1",
   "metadata": {},
   "outputs": [],
   "source": [
    "print(\"AB_Data_Back =\",AB_Data_Back.isnull().sum().sum())"
   ]
  },
  {
   "cell_type": "code",
   "execution_count": null,
   "id": "52b35d2b",
   "metadata": {},
   "outputs": [],
   "source": [
    "table_names_list =['AB_Data_Back', 'AB_Data_BufferOverflow', 'AB_Data_FTPWrite', \n",
    "                   'AB_Data_GuessPassword','AB_Data_Neptune', 'AB_Data_NMap', 'AB_Data_Normal', \n",
    "                   'AB_Data_PortSweep','AB_Data_RootKit', 'AB_Data_Satan', 'AB_Data_Smurf']"
   ]
  },
  {
   "cell_type": "code",
   "execution_count": null,
   "id": "b30b3016",
   "metadata": {},
   "outputs": [],
   "source": [
    "for i, df in enumerate(table_names):\n",
    "    null_count = df.isnull().sum().sum()  \n",
    "    print(f\"DataFrame Name: {table_names_list[i]}, Null Values Count: {null_count}\")"
   ]
  },
  {
   "cell_type": "markdown",
   "id": "537dfcf0",
   "metadata": {},
   "source": [
    "#### Hence there are no missing values"
   ]
  },
  {
   "cell_type": "markdown",
   "id": "7e3d3f55",
   "metadata": {},
   "source": [
    "#### Dealing with Duplicates"
   ]
  },
  {
   "cell_type": "code",
   "execution_count": null,
   "id": "1c2db327",
   "metadata": {},
   "outputs": [],
   "source": [
    "for i, df in enumerate(table_names):\n",
    "    duplicate = df.duplicated().sum() \n",
    "    print(f\"DataFrame Name: {table_names_list[i]}, duplicate row count: {duplicate}\")"
   ]
  },
  {
   "cell_type": "markdown",
   "id": "45b2b55e",
   "metadata": {},
   "source": [
    "#### Hence there are no duplicate values"
   ]
  },
  {
   "cell_type": "code",
   "execution_count": null,
   "id": "8abb5fe8",
   "metadata": {},
   "outputs": [],
   "source": []
  }
 ],
 "metadata": {
  "kernelspec": {
   "display_name": "Python 3",
   "language": "python",
   "name": "python3"
  },
  "language_info": {
   "codemirror_mode": {
    "name": "ipython",
    "version": 3
   },
   "file_extension": ".py",
   "mimetype": "text/x-python",
   "name": "python",
   "nbconvert_exporter": "python",
   "pygments_lexer": "ipython3",
   "version": "3.8.8"
  }
 },
 "nbformat": 4,
 "nbformat_minor": 5
}
